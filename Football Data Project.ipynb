{
 "cells": [
  {
   "cell_type": "code",
   "execution_count": 69,
   "id": "a82af332",
   "metadata": {},
   "outputs": [],
   "source": [
    "#Import libraries\n",
    "import numpy as np \n",
    "import pandas as pd\n",
    "import sqlite3\n",
    "import matplotlib.pyplot as plt\n",
    "import seaborn as sns\n",
    "database ='database.sqlite'"
   ]
  },
  {
   "cell_type": "code",
   "execution_count": 2,
   "id": "6050f7ef",
   "metadata": {},
   "outputs": [
    {
     "name": "stdout",
     "output_type": "stream",
     "text": [
      "    type               name           tbl_name  rootpage  \\\n",
      "0  table    sqlite_sequence    sqlite_sequence         4   \n",
      "1  table  Player_Attributes  Player_Attributes        11   \n",
      "2  table             Player             Player        14   \n",
      "3  table              Match              Match        18   \n",
      "4  table             League             League        24   \n",
      "5  table            Country            Country        26   \n",
      "6  table               Team               Team        29   \n",
      "7  table    Team_Attributes    Team_Attributes         2   \n",
      "\n",
      "                                                 sql  \n",
      "0             CREATE TABLE sqlite_sequence(name,seq)  \n",
      "1  CREATE TABLE \"Player_Attributes\" (\\n\\t`id`\\tIN...  \n",
      "2  CREATE TABLE `Player` (\\n\\t`id`\\tINTEGER PRIMA...  \n",
      "3  CREATE TABLE `Match` (\\n\\t`id`\\tINTEGER PRIMAR...  \n",
      "4  CREATE TABLE `League` (\\n\\t`id`\\tINTEGER PRIMA...  \n",
      "5  CREATE TABLE `Country` (\\n\\t`id`\\tINTEGER PRIM...  \n",
      "6  CREATE TABLE \"Team\" (\\n\\t`id`\\tINTEGER PRIMARY...  \n",
      "7  CREATE TABLE `Team_Attributes` (\\n\\t`id`\\tINTE...  \n"
     ]
    }
   ],
   "source": [
    "#Connect to database, list all the tables in the database\n",
    "conn = sqlite3.connect(database)\n",
    "querry_1= \"SELECT * FROM sqlite_master WHERE type='table';\"\n",
    "tables= pd.read_sql(querry_1,conn)\n",
    "print(tables)\n"
   ]
  },
  {
   "cell_type": "code",
   "execution_count": 3,
   "id": "7b59abdd",
   "metadata": {},
   "outputs": [
    {
     "name": "stdout",
     "output_type": "stream",
     "text": [
      "          id  player_api_id          player_name  player_fifa_api_id  \\\n",
      "0          1         505942   Aaron Appindangoye              218353   \n",
      "1          2         155782      Aaron Cresswell              189615   \n",
      "2          3         162549          Aaron Doran              186170   \n",
      "3          4          30572        Aaron Galindo              140161   \n",
      "4          5          23780         Aaron Hughes               17725   \n",
      "...      ...            ...                  ...                 ...   \n",
      "11055  11071          26357       Zoumana Camara                2488   \n",
      "11056  11072         111182         Zsolt Laczko              164680   \n",
      "11057  11073          36491            Zsolt Low              111191   \n",
      "11058  11074          35506  Zurab Khizanishvili               47058   \n",
      "11059  11075          39902   Zvjezdan Misimovic              102359   \n",
      "\n",
      "                  birthday  height  weight  \n",
      "0      1992-02-29 00:00:00  182.88     187  \n",
      "1      1989-12-15 00:00:00  170.18     146  \n",
      "2      1991-05-13 00:00:00  170.18     163  \n",
      "3      1982-05-08 00:00:00  182.88     198  \n",
      "4      1979-11-08 00:00:00  182.88     154  \n",
      "...                    ...     ...     ...  \n",
      "11055  1979-04-03 00:00:00  182.88     168  \n",
      "11056  1986-12-18 00:00:00  182.88     176  \n",
      "11057  1979-04-29 00:00:00  180.34     154  \n",
      "11058  1981-10-06 00:00:00  185.42     172  \n",
      "11059  1982-06-05 00:00:00  180.34     176  \n",
      "\n",
      "[11060 rows x 7 columns]\n"
     ]
    }
   ],
   "source": [
    "#Checking each tables\n",
    "#Player\n",
    "player=pd.read_sql(\"SELECT * FROM Player\",conn)\n",
    "print(player)"
   ]
  },
  {
   "cell_type": "code",
   "execution_count": 4,
   "id": "c3b30f99",
   "metadata": {},
   "outputs": [
    {
     "name": "stdout",
     "output_type": "stream",
     "text": [
      "          id  country_id  league_id     season  stage                 date  \\\n",
      "0          1           1          1  2008/2009      1  2008-08-17 00:00:00   \n",
      "1          2           1          1  2008/2009      1  2008-08-16 00:00:00   \n",
      "2          3           1          1  2008/2009      1  2008-08-16 00:00:00   \n",
      "3          4           1          1  2008/2009      1  2008-08-17 00:00:00   \n",
      "4          5           1          1  2008/2009      1  2008-08-16 00:00:00   \n",
      "...      ...         ...        ...        ...    ...                  ...   \n",
      "25974  25975       24558      24558  2015/2016      9  2015-09-22 00:00:00   \n",
      "25975  25976       24558      24558  2015/2016      9  2015-09-23 00:00:00   \n",
      "25976  25977       24558      24558  2015/2016      9  2015-09-23 00:00:00   \n",
      "25977  25978       24558      24558  2015/2016      9  2015-09-22 00:00:00   \n",
      "25978  25979       24558      24558  2015/2016      9  2015-09-23 00:00:00   \n",
      "\n",
      "       match_api_id  home_team_api_id  away_team_api_id  home_team_goal  ...  \\\n",
      "0            492473              9987              9993               1  ...   \n",
      "1            492474             10000              9994               0  ...   \n",
      "2            492475              9984              8635               0  ...   \n",
      "3            492476              9991              9998               5  ...   \n",
      "4            492477              7947              9985               1  ...   \n",
      "...             ...               ...               ...             ...  ...   \n",
      "25974       1992091             10190             10191               1  ...   \n",
      "25975       1992092              9824             10199               1  ...   \n",
      "25976       1992093              9956             10179               2  ...   \n",
      "25977       1992094              7896             10243               0  ...   \n",
      "25978       1992095             10192              9931               4  ...   \n",
      "\n",
      "        SJA   VCH   VCD   VCA   GBH   GBD   GBA   BSH   BSD   BSA  \n",
      "0      4.00  1.65  3.40  4.50  1.78  3.25  4.00  1.73  3.40  4.20  \n",
      "1      3.80  2.00  3.25  3.25  1.85  3.25  3.75  1.91  3.25  3.60  \n",
      "2      2.50  2.35  3.25  2.65  2.50  3.20  2.50  2.30  3.20  2.75  \n",
      "3      7.50  1.45  3.75  6.50  1.50  3.75  5.50  1.44  3.75  6.50  \n",
      "4      1.73  4.50  3.40  1.65  4.50  3.50  1.65  4.75  3.30  1.67  \n",
      "...     ...   ...   ...   ...   ...   ...   ...   ...   ...   ...  \n",
      "25974   NaN   NaN   NaN   NaN   NaN   NaN   NaN   NaN   NaN   NaN  \n",
      "25975   NaN   NaN   NaN   NaN   NaN   NaN   NaN   NaN   NaN   NaN  \n",
      "25976   NaN   NaN   NaN   NaN   NaN   NaN   NaN   NaN   NaN   NaN  \n",
      "25977   NaN   NaN   NaN   NaN   NaN   NaN   NaN   NaN   NaN   NaN  \n",
      "25978   NaN   NaN   NaN   NaN   NaN   NaN   NaN   NaN   NaN   NaN  \n",
      "\n",
      "[25979 rows x 115 columns]\n"
     ]
    }
   ],
   "source": [
    "#Match\n",
    "match=pd.read_sql(\"SELECT * FROM Match\",conn)\n",
    "print(match)"
   ]
  },
  {
   "cell_type": "code",
   "execution_count": 5,
   "id": "34e54d85",
   "metadata": {},
   "outputs": [
    {
     "name": "stdout",
     "output_type": "stream",
     "text": [
      "       id  country_id                      name\n",
      "0       1           1    Belgium Jupiler League\n",
      "1    1729        1729    England Premier League\n",
      "2    4769        4769            France Ligue 1\n",
      "3    7809        7809     Germany 1. Bundesliga\n",
      "4   10257       10257             Italy Serie A\n",
      "5   13274       13274    Netherlands Eredivisie\n",
      "6   15722       15722        Poland Ekstraklasa\n",
      "7   17642       17642  Portugal Liga ZON Sagres\n",
      "8   19694       19694   Scotland Premier League\n",
      "9   21518       21518           Spain LIGA BBVA\n",
      "10  24558       24558  Switzerland Super League\n"
     ]
    }
   ],
   "source": [
    "#League\n",
    "league=pd.read_sql(\"SELECT * FROM League\",conn)\n",
    "print(league)"
   ]
  },
  {
   "cell_type": "code",
   "execution_count": 6,
   "id": "c0289a28",
   "metadata": {},
   "outputs": [
    {
     "name": "stdout",
     "output_type": "stream",
     "text": [
      "       id         name\n",
      "0       1      Belgium\n",
      "1    1729      England\n",
      "2    4769       France\n",
      "3    7809      Germany\n",
      "4   10257        Italy\n",
      "5   13274  Netherlands\n",
      "6   15722       Poland\n",
      "7   17642     Portugal\n",
      "8   19694     Scotland\n",
      "9   21518        Spain\n",
      "10  24558  Switzerland\n"
     ]
    }
   ],
   "source": [
    "#Country\n",
    "country=pd.read_sql(\"SELECT * FROM Country\",conn)\n",
    "print(country)"
   ]
  },
  {
   "cell_type": "code",
   "execution_count": 7,
   "id": "b3842a1f",
   "metadata": {},
   "outputs": [
    {
     "name": "stdout",
     "output_type": "stream",
     "text": [
      "        id  team_api_id  team_fifa_api_id      team_long_name team_short_name\n",
      "0        1         9987             673.0            KRC Genk             GEN\n",
      "1        2         9993             675.0        Beerschot AC             BAC\n",
      "2        3        10000           15005.0    SV Zulte-Waregem             ZUL\n",
      "3        4         9994            2007.0    Sporting Lokeren             LOK\n",
      "4        5         9984            1750.0   KSV Cercle Brugge             CEB\n",
      "..     ...          ...               ...                 ...             ...\n",
      "294  49479        10190             898.0       FC St. Gallen             GAL\n",
      "295  49837        10191            1715.0             FC Thun             THU\n",
      "296  50201         9777             324.0         Servette FC             SER\n",
      "297  50204         7730            1862.0  FC Lausanne-Sports             LAU\n",
      "298  51606         7896               NaN              Lugano             LUG\n",
      "\n",
      "[299 rows x 5 columns]\n"
     ]
    }
   ],
   "source": [
    "#Team\n",
    "team=pd.read_sql(\"SELECT * FROM Team\",conn)\n",
    "print(team)"
   ]
  },
  {
   "cell_type": "code",
   "execution_count": 8,
   "id": "b9c12b7b",
   "metadata": {},
   "outputs": [
    {
     "name": "stdout",
     "output_type": "stream",
     "text": [
      "        id  team_fifa_api_id  team_api_id                 date  \\\n",
      "0        1               434         9930  2010-02-22 00:00:00   \n",
      "1        2               434         9930  2014-09-19 00:00:00   \n",
      "2        3               434         9930  2015-09-10 00:00:00   \n",
      "3        4                77         8485  2010-02-22 00:00:00   \n",
      "4        5                77         8485  2011-02-22 00:00:00   \n",
      "...    ...               ...          ...                  ...   \n",
      "1453  1454             15005        10000  2011-02-22 00:00:00   \n",
      "1454  1455             15005        10000  2012-02-22 00:00:00   \n",
      "1455  1456             15005        10000  2013-09-20 00:00:00   \n",
      "1456  1457             15005        10000  2014-09-19 00:00:00   \n",
      "1457  1458             15005        10000  2015-09-10 00:00:00   \n",
      "\n",
      "      buildUpPlaySpeed buildUpPlaySpeedClass  buildUpPlayDribbling  \\\n",
      "0                   60              Balanced                   NaN   \n",
      "1                   52              Balanced                  48.0   \n",
      "2                   47              Balanced                  41.0   \n",
      "3                   70                  Fast                   NaN   \n",
      "4                   47              Balanced                   NaN   \n",
      "...                ...                   ...                   ...   \n",
      "1453                52              Balanced                   NaN   \n",
      "1454                54              Balanced                   NaN   \n",
      "1455                54              Balanced                   NaN   \n",
      "1456                54              Balanced                  42.0   \n",
      "1457                54              Balanced                  42.0   \n",
      "\n",
      "     buildUpPlayDribblingClass  buildUpPlayPassing buildUpPlayPassingClass  \\\n",
      "0                       Little                  50                   Mixed   \n",
      "1                       Normal                  56                   Mixed   \n",
      "2                       Normal                  54                   Mixed   \n",
      "3                       Little                  70                    Long   \n",
      "4                       Little                  52                   Mixed   \n",
      "...                        ...                 ...                     ...   \n",
      "1453                    Little                  52                   Mixed   \n",
      "1454                    Little                  51                   Mixed   \n",
      "1455                    Little                  51                   Mixed   \n",
      "1456                    Normal                  51                   Mixed   \n",
      "1457                    Normal                  51                   Mixed   \n",
      "\n",
      "      ... chanceCreationShooting  chanceCreationShootingClass  \\\n",
      "0     ...                     55                       Normal   \n",
      "1     ...                     64                       Normal   \n",
      "2     ...                     64                       Normal   \n",
      "3     ...                     70                         Lots   \n",
      "4     ...                     52                       Normal   \n",
      "...   ...                    ...                          ...   \n",
      "1453  ...                     53                       Normal   \n",
      "1454  ...                     50                       Normal   \n",
      "1455  ...                     32                       Little   \n",
      "1456  ...                     32                       Little   \n",
      "1457  ...                     32                       Little   \n",
      "\n",
      "     chanceCreationPositioningClass  defencePressure defencePressureClass  \\\n",
      "0                         Organised               50               Medium   \n",
      "1                         Organised               47               Medium   \n",
      "2                         Organised               47               Medium   \n",
      "3                         Organised               60               Medium   \n",
      "4                         Organised               47               Medium   \n",
      "...                             ...              ...                  ...   \n",
      "1453                      Organised               46               Medium   \n",
      "1454                      Organised               44               Medium   \n",
      "1455                      Organised               44               Medium   \n",
      "1456                      Organised               44               Medium   \n",
      "1457                      Organised               44               Medium   \n",
      "\n",
      "      defenceAggression defenceAggressionClass defenceTeamWidth  \\\n",
      "0                    55                  Press               45   \n",
      "1                    44                  Press               54   \n",
      "2                    44                  Press               54   \n",
      "3                    70                 Double               70   \n",
      "4                    47                  Press               52   \n",
      "...                 ...                    ...              ...   \n",
      "1453                 48                  Press               53   \n",
      "1454                 55                  Press               53   \n",
      "1455                 58                  Press               37   \n",
      "1456                 58                  Press               37   \n",
      "1457                 58                  Press               37   \n",
      "\n",
      "      defenceTeamWidthClass defenceDefenderLineClass  \n",
      "0                    Normal                    Cover  \n",
      "1                    Normal                    Cover  \n",
      "2                    Normal                    Cover  \n",
      "3                      Wide                    Cover  \n",
      "4                    Normal                    Cover  \n",
      "...                     ...                      ...  \n",
      "1453                 Normal                    Cover  \n",
      "1454                 Normal                    Cover  \n",
      "1455                 Normal                    Cover  \n",
      "1456                 Normal                    Cover  \n",
      "1457                 Normal                    Cover  \n",
      "\n",
      "[1458 rows x 25 columns]\n"
     ]
    }
   ],
   "source": [
    "#Team atrributes\n",
    "team_attr=pd.read_sql(\"SELECT * FROM Team_Attributes\",conn)\n",
    "print(team_attr)"
   ]
  },
  {
   "cell_type": "code",
   "execution_count": 9,
   "id": "ee662642",
   "metadata": {},
   "outputs": [
    {
     "name": "stdout",
     "output_type": "stream",
     "text": [
      "            id  player_fifa_api_id  player_api_id                 date  \\\n",
      "0            1              218353         505942  2016-02-18 00:00:00   \n",
      "1            2              218353         505942  2015-11-19 00:00:00   \n",
      "2            3              218353         505942  2015-09-21 00:00:00   \n",
      "3            4              218353         505942  2015-03-20 00:00:00   \n",
      "4            5              218353         505942  2007-02-22 00:00:00   \n",
      "...        ...                 ...            ...                  ...   \n",
      "183973  183974              102359          39902  2009-08-30 00:00:00   \n",
      "183974  183975              102359          39902  2009-02-22 00:00:00   \n",
      "183975  183976              102359          39902  2008-08-30 00:00:00   \n",
      "183976  183977              102359          39902  2007-08-30 00:00:00   \n",
      "183977  183978              102359          39902  2007-02-22 00:00:00   \n",
      "\n",
      "        overall_rating  potential preferred_foot attacking_work_rate  \\\n",
      "0                 67.0       71.0          right              medium   \n",
      "1                 67.0       71.0          right              medium   \n",
      "2                 62.0       66.0          right              medium   \n",
      "3                 61.0       65.0          right              medium   \n",
      "4                 61.0       65.0          right              medium   \n",
      "...                ...        ...            ...                 ...   \n",
      "183973            83.0       85.0          right              medium   \n",
      "183974            78.0       80.0          right              medium   \n",
      "183975            77.0       80.0          right              medium   \n",
      "183976            78.0       81.0          right              medium   \n",
      "183977            80.0       81.0          right              medium   \n",
      "\n",
      "       defensive_work_rate  crossing  ...  vision  penalties  marking  \\\n",
      "0                   medium      49.0  ...    54.0       48.0     65.0   \n",
      "1                   medium      49.0  ...    54.0       48.0     65.0   \n",
      "2                   medium      49.0  ...    54.0       48.0     65.0   \n",
      "3                   medium      48.0  ...    53.0       47.0     62.0   \n",
      "4                   medium      48.0  ...    53.0       47.0     62.0   \n",
      "...                    ...       ...  ...     ...        ...      ...   \n",
      "183973                 low      84.0  ...    88.0       83.0     22.0   \n",
      "183974                 low      74.0  ...    88.0       70.0     32.0   \n",
      "183975                 low      74.0  ...    88.0       70.0     32.0   \n",
      "183976                 low      74.0  ...    88.0       53.0     28.0   \n",
      "183977                 low      74.0  ...    88.0       53.0     38.0   \n",
      "\n",
      "        standing_tackle  sliding_tackle  gk_diving  gk_handling  gk_kicking  \\\n",
      "0                  69.0            69.0        6.0         11.0        10.0   \n",
      "1                  69.0            69.0        6.0         11.0        10.0   \n",
      "2                  66.0            69.0        6.0         11.0        10.0   \n",
      "3                  63.0            66.0        5.0         10.0         9.0   \n",
      "4                  63.0            66.0        5.0         10.0         9.0   \n",
      "...                 ...             ...        ...          ...         ...   \n",
      "183973             31.0            30.0        9.0         20.0        84.0   \n",
      "183974             31.0            30.0        9.0         20.0        73.0   \n",
      "183975             31.0            30.0        9.0         20.0        73.0   \n",
      "183976             32.0            30.0        9.0         20.0        73.0   \n",
      "183977             32.0            30.0        9.0          9.0        78.0   \n",
      "\n",
      "        gk_positioning  gk_reflexes  \n",
      "0                  8.0          8.0  \n",
      "1                  8.0          8.0  \n",
      "2                  8.0          8.0  \n",
      "3                  7.0          7.0  \n",
      "4                  7.0          7.0  \n",
      "...                ...          ...  \n",
      "183973            20.0         20.0  \n",
      "183974            20.0         20.0  \n",
      "183975            20.0         20.0  \n",
      "183976            20.0         20.0  \n",
      "183977             7.0         15.0  \n",
      "\n",
      "[183978 rows x 42 columns]\n"
     ]
    }
   ],
   "source": [
    "#Player atrributes\n",
    "player_attr=pd.read_sql(\"SELECT * FROM Player_Attributes\",conn)\n",
    "print(player_attr)"
   ]
  },
  {
   "cell_type": "code",
   "execution_count": 10,
   "id": "6e9cc7dc",
   "metadata": {},
   "outputs": [
    {
     "name": "stdout",
     "output_type": "stream",
     "text": [
      "             team_long_name\n",
      "0                   Burnley\n",
      "1            Leicester City\n",
      "2              Cardiff City\n",
      "3                   Chelsea\n",
      "4           Manchester City\n",
      "5                Portsmouth\n",
      "6               Southampton\n",
      "7                Sunderland\n",
      "8                 Blackpool\n",
      "9            Wigan Athletic\n",
      "10            Middlesbrough\n",
      "11         Bolton Wanderers\n",
      "12        Tottenham Hotspur\n",
      "13  Wolverhampton Wanderers\n",
      "14                Liverpool\n",
      "15          West Ham United\n",
      "16         Blackburn Rovers\n",
      "17          Birmingham City\n",
      "18     West Bromwich Albion\n",
      "19                Hull City\n",
      "20                  Everton\n",
      "21              Bournemouth\n",
      "22                  Reading\n",
      "23                  Watford\n",
      "24                  Arsenal\n",
      "25           Crystal Palace\n",
      "26             Norwich City\n",
      "27                   Fulham\n",
      "28             Swansea City\n",
      "29      Queens Park Rangers\n",
      "30               Stoke City\n",
      "31              Aston Villa\n",
      "32        Manchester United\n",
      "33         Newcastle United\n"
     ]
    }
   ],
   "source": [
    "#Now we focus on the most atrrative league: English Premier League\n",
    "#List all the team play in English Premier League from 2008-2016\n",
    "teams_pl= pd.read_sql(\"SELECT DISTINCT team_long_name FROM Team WHERE team_api_id IN (SELECT away_team_api_id FROM Match WHERE country_id=1729);\",conn)\n",
    "print(teams_pl)"
   ]
  },
  {
   "cell_type": "code",
   "execution_count": 43,
   "id": "8384d58c",
   "metadata": {},
   "outputs": [
    {
     "name": "stdout",
     "output_type": "stream",
     "text": [
      "                       Team  Home_Points  Away_Points  Total_Points\n",
      "17        Manchester United          364          269           633\n",
      "9                   Chelsea          337          261           598\n",
      "16          Manchester City          357          229           586\n",
      "0                   Arsenal          325          258           583\n",
      "28        Tottenham Hotspur          300          227           527\n",
      "15                Liverpool          301          225           526\n",
      "11                  Everton          271          192           463\n",
      "25               Stoke City          250          130           380\n",
      "1               Aston Villa          185          161           346\n",
      "26               Sunderland          194          132           326\n",
      "31          West Ham United          197          117           314\n",
      "19         Newcastle United          195          116           311\n",
      "30     West Bromwich Albion          175          123           298\n",
      "12                   Fulham          180           95           275\n",
      "27             Swansea City          142           96           238\n",
      "24              Southampton          128           92           220\n",
      "32           Wigan Athletic          117           85           202\n",
      "3          Blackburn Rovers          108           57           165\n",
      "5          Bolton Wanderers          101           61           162\n",
      "20             Norwich City          105           53           158\n",
      "13                Hull City           83           54           137\n",
      "10           Crystal Palace           69           66           135\n",
      "14           Leicester City           68           54           122\n",
      "33  Wolverhampton Wanderers           61           42           103\n",
      "22      Queens Park Rangers           63           29            92\n",
      "2           Birmingham City           59           30            89\n",
      "21               Portsmouth           45           24            69\n",
      "7                   Burnley           45           18            63\n",
      "29                  Watford           24           21            45\n",
      "6               Bournemouth           20           22            42\n",
      "4                 Blackpool           20           19            39\n",
      "18            Middlesbrough           24            8            32\n",
      "8              Cardiff City           20           10            30\n",
      "23                  Reading           20            8            28\n"
     ]
    }
   ],
   "source": [
    "#As home team which, team have the most point in EPL? also as away team? and both?\n",
    "query_3 = '''SELECT DISTINCT home_team.team_long_name as Team, SUM(CASE WHEN Match.home_team_goal > Match.away_team_goal THEN 3\n",
    "                             WHEN Match.home_team_goal = Match.away_team_goal THEN 1\n",
    "                             ELSE 0\n",
    "                        END) as Home_Points\n",
    "FROM Match\n",
    "JOIN Team as home_team ON home_team.team_api_id = Match.home_team_api_id\n",
    "JOIN Team as away_team ON away_team.team_api_id = Match.away_team_api_id\n",
    "WHERE Match.country_id = 1729\n",
    "GROUP BY home_team.team_long_name'''\n",
    "home_pl= pd.read_sql(query_3,conn)\n",
    "\n",
    "query_4= '''SELECT DISTINCT away_team.team_long_name as Team, SUM(CASE WHEN Match.home_team_goal < Match.away_team_goal THEN 3\n",
    "                             WHEN Match.home_team_goal = Match.away_team_goal THEN 1\n",
    "                             ELSE 0\n",
    "                        END) as Away_Points\n",
    "FROM Match\n",
    "JOIN Team as home_team ON home_team.team_api_id = Match.home_team_api_id\n",
    "JOIN Team as away_team ON away_team.team_api_id = Match.away_team_api_id\n",
    "WHERE Match.country_id = 1729\n",
    "GROUP BY away_team.team_long_name'''\n",
    "away_pl= pd.read_sql(query_4,conn)\n",
    "\n",
    "epl_point = pd.merge(home_pl,away_pl,on='Team')\n",
    "epl_point['Total_Points']= epl_point['Home_Points']+epl_point['Away_Points']\n",
    "print(epl_point.sort_values(by='Total_Points', ascending=False))\n",
    "# Manchester United is the most point gainer of EPL during 2008-2016 seasons period"
   ]
  },
  {
   "cell_type": "code",
   "execution_count": 54,
   "id": "b4582a29",
   "metadata": {},
   "outputs": [
    {
     "name": "stdout",
     "output_type": "stream",
     "text": [
      "      season  home_team_score  away_team_score  avg_score  total_score\n",
      "0  2008/2009         1.400000         1.078947   2.478947          942\n",
      "1  2009/2010         1.697368         1.073684   2.771053         1053\n",
      "2  2010/2011         1.623684         1.173684   2.797368         1063\n",
      "3  2011/2012         1.589474         1.215789   2.805263         1066\n",
      "4  2012/2013         1.557895         1.239474   2.797368         1063\n",
      "5  2013/2014         1.573684         1.194737   2.768421         1052\n",
      "6  2014/2015         1.473684         1.092105   2.565789          975\n",
      "7  2015/2016         1.492105         1.207895   2.700000         1026\n"
     ]
    }
   ],
   "source": [
    "# Now we want to know for each season, EPL teams score in average how many goals\n",
    "query_5='''SELECT season,avg(home_team_goal) as home_team_score, avg(away_team_goal) as away_team_score, avg(home_team_goal+away_team_goal) as avg_score,sum(home_team_goal+away_team_goal) as total_score\n",
    "FROM Match\n",
    "JOIN Team as home_team ON home_team.team_api_id = Match.home_team_api_id\n",
    "JOIN Team as away_team ON away_team.team_api_id = Match.away_team_api_id\n",
    "WHERE Match.country_id = 1729\n",
    "GROUP BY season'''\n",
    "goal_epl= pd.read_sql(query_5,conn)\n",
    "print(goal_epl)"
   ]
  },
  {
   "cell_type": "code",
   "execution_count": 64,
   "id": "dcdac2ed",
   "metadata": {},
   "outputs": [
    {
     "data": {
      "image/png": "[encoded data removed]",
      "text/plain": [
       "<Figure size 432x288 with 1 Axes>"
      ]
     },
     "metadata": {
      "needs_background": "light"
     },
     "output_type": "display_data"
    }
   ],
   "source": [
    "#Plotting\n",
    "# Create a bar plot\n",
    "plt.bar(goal_epl['season'], goal_epl['home_team_score'], label='Home Team Score')\n",
    "plt.bar(goal_epl['season'], goal_epl['away_team_score'], bottom=goal_epl['home_team_score'], label='Away Team Score')\n",
    "plt.xticks(rotation=45)\n",
    "# Add labels and a title\n",
    "plt.xlabel('Season')\n",
    "plt.ylabel('Scores')\n",
    "plt.title('Scores per Season')\n",
    "\n",
    "# Show the legend\n",
    "plt.legend()\n",
    "\n",
    "plt.tight_layout()\n",
    "# Display the plot\n",
    "plt.show()"
   ]
  },
  {
   "cell_type": "code",
   "execution_count": 65,
   "id": "0002770e",
   "metadata": {},
   "outputs": [
    {
     "name": "stdout",
     "output_type": "stream",
     "text": [
      "          player_name  avg_overall_rating\n",
      "0        Lionel Messi           92.192308\n",
      "1   Cristiano Ronaldo           91.280000\n",
      "2       Franck Ribery           88.458333\n",
      "3      Andres Iniesta           88.320000\n",
      "4  Zlatan Ibrahimovic           88.285714\n",
      "5        Arjen Robben           87.840000\n",
      "6      Xavi Hernandez           87.636364\n",
      "7        Wayne Rooney           87.222222\n",
      "8       Iker Casillas           86.954545\n",
      "9        Philipp Lahm           86.733333\n"
     ]
    }
   ],
   "source": [
    "#Now, let explore the play table, we gonna be curious who is the best player in Europe in this period\n",
    "#Top 10 players with highest overall through all seasons\n",
    "query_6 = '''\n",
    "SELECT \n",
    "  Player.player_name, \n",
    "  AVG(Player_Attributes.overall_rating) as avg_overall_rating\n",
    "FROM Player_Attributes\n",
    "JOIN Player ON Player.player_api_id = Player_Attributes.player_api_id\n",
    "GROUP BY Player.player_name\n",
    "ORDER BY avg_overall_rating DESC\n",
    "LIMIT 10\n",
    "'''\n",
    "best_player = pd.read_sql(query_6, conn)\n",
    "print(best_player)\n",
    "# In the prime periods, Ronaldo and Messi are the best fooballers in Europe\n",
    "# For EPL, Wayne Rooney is the best player"
   ]
  },
  {
   "cell_type": "code",
   "execution_count": 70,
   "id": "403c29a4",
   "metadata": {},
   "outputs": [
    {
     "name": "stdout",
     "output_type": "stream",
     "text": [
      "       height  weight\n",
      "0      182.88     187\n",
      "1      170.18     146\n",
      "2      170.18     163\n",
      "3      182.88     198\n",
      "4      182.88     154\n",
      "...       ...     ...\n",
      "11055  182.88     168\n",
      "11056  182.88     176\n",
      "11057  180.34     154\n",
      "11058  185.42     172\n",
      "11059  180.34     176\n",
      "\n",
      "[11060 rows x 2 columns]\n"
     ]
    },
    {
     "name": "stderr",
     "output_type": "stream",
     "text": [
      "D:\\Users\\Dat Truong\\anaconda3\\lib\\site-packages\\seaborn\\distributions.py:2619: FutureWarning: `distplot` is a deprecated function and will be removed in a future version. Please adapt your code to use either `displot` (a figure-level function with similar flexibility) or `histplot` (an axes-level function for histograms).\n",
      "  warnings.warn(msg, FutureWarning)\n"
     ]
    },
    {
     "data": {
      "image/png": "[encoded data removed]",
      "text/plain": [
       "<Figure size 432x288 with 1 Axes>"
      ]
     },
     "metadata": {
      "needs_background": "light"
     },
     "output_type": "display_data"
    },
    {
     "name": "stderr",
     "output_type": "stream",
     "text": [
      "D:\\Users\\Dat Truong\\anaconda3\\lib\\site-packages\\seaborn\\distributions.py:2619: FutureWarning: `distplot` is a deprecated function and will be removed in a future version. Please adapt your code to use either `displot` (a figure-level function with similar flexibility) or `histplot` (an axes-level function for histograms).\n",
      "  warnings.warn(msg, FutureWarning)\n"
     ]
    },
    {
     "data": {
      "image/png": "[encoded data removed]",
      "text/plain": [
       "<Figure size 432x288 with 1 Axes>"
      ]
     },
     "metadata": {
      "needs_background": "light"
     },
     "output_type": "display_data"
    }
   ],
   "source": [
    "# Now we care about physical atributes of players. We wanna check the distribution of height and weights\n",
    "query_7='''SELECT height,weight FROM player'''\n",
    "physical_atrr= pd.read_sql(query_7,conn)\n",
    "print(physical_atrr)\n",
    "sns.distplot(physical_atrr['height'])\n",
    "plt.show()\n",
    "sns.distplot(physical_atrr['weight'])\n",
    "plt.show()"
   ]
  },
  {
   "cell_type": "code",
   "execution_count": null,
   "id": "43e0e08b",
   "metadata": {},
   "outputs": [],
   "source": [
    "# We move data to Power BI to build a visual player search, maybe usefull for coach to find approriate player"
   ]
  }
 ],
 "metadata": {
  "kernelspec": {
   "display_name": "Python 3 (ipykernel)",
   "language": "python",
   "name": "python3"
  },
  "language_info": {
   "codemirror_mode": {
    "name": "ipython",
    "version": 3
   },
   "file_extension": ".py",
   "mimetype": "text/x-python",
   "name": "python",
   "nbconvert_exporter": "python",
   "pygments_lexer": "ipython3",
   "version": "3.9.7"
  }
 },
 "nbformat": 4,
 "nbformat_minor": 5
}
